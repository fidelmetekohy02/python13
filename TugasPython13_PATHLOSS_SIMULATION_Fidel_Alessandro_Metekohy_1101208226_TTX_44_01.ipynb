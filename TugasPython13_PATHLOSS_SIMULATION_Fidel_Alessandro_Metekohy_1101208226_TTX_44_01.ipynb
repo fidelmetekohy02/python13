{
  "nbformat": 4,
  "nbformat_minor": 0,
  "metadata": {
    "colab": {
      "name": "TugasPython13-PATHLOSS SIMULATION-Fidel Alessandro Metekohy_1101208226_TTX-44-01.ipynb",
      "provenance": [],
      "collapsed_sections": [
        "FQC_AUmtBbmk"
      ],
      "include_colab_link": true
    },
    "kernelspec": {
      "name": "python3",
      "display_name": "Python 3"
    }
  },
  "cells": [
    {
      "cell_type": "markdown",
      "metadata": {
        "id": "view-in-github",
        "colab_type": "text"
      },
      "source": [
        "<a href=\"https://colab.research.google.com/github/fidelmetekohy02/python13/blob/main/TugasPython13_PATHLOSS_SIMULATION_Fidel_Alessandro_Metekohy_1101208226_TTX_44_01.ipynb\" target=\"_parent\"><img src=\"https://colab.research.google.com/assets/colab-badge.svg\" alt=\"Open In Colab\"/></a>"
      ]
    },
    {
      "cell_type": "markdown",
      "metadata": {
        "id": "FQC_AUmtBbmk"
      },
      "source": [
        "# Numpy dan Matplotlib\n",
        "## Python for Path Loss Simulation\n",
        "## PEMROGRAMAN PYTHON\n",
        "## Fidel Alessandro Metekohy - 1101208226 - TTX-44-01"
      ]
    },
    {
      "cell_type": "code",
      "metadata": {
        "id": "_a_N7F-JBnG8"
      },
      "source": [
        "import numpy as np\n",
        "import matplotlib.pyplot as plt\n"
      ],
      "execution_count": 2,
      "outputs": []
    },
    {
      "cell_type": "code",
      "metadata": {
        "colab": {
          "base_uri": "https://localhost:8080/"
        },
        "id": "p2IhgozVHEBy",
        "outputId": "aed52dce-850f-4b85-bca9-5c23d7fbb889"
      },
      "source": [
        "np.zeros(4)"
      ],
      "execution_count": 3,
      "outputs": [
        {
          "output_type": "execute_result",
          "data": {
            "text/plain": [
              "array([0., 0., 0., 0.])"
            ]
          },
          "metadata": {
            "tags": []
          },
          "execution_count": 3
        }
      ]
    },
    {
      "cell_type": "code",
      "metadata": {
        "colab": {
          "base_uri": "https://localhost:8080/"
        },
        "id": "QtGgWIULHOzi",
        "outputId": "6498c07a-f2ac-4ad4-c4a2-d0557fbf4e3a"
      },
      "source": [
        "np.ones(3)"
      ],
      "execution_count": 4,
      "outputs": [
        {
          "output_type": "execute_result",
          "data": {
            "text/plain": [
              "array([1., 1., 1.])"
            ]
          },
          "metadata": {
            "tags": []
          },
          "execution_count": 4
        }
      ]
    },
    {
      "cell_type": "markdown",
      "metadata": {
        "id": "lwGp9q-HHiEb"
      },
      "source": [
        "**(Baris,Kolom)**"
      ]
    },
    {
      "cell_type": "code",
      "metadata": {
        "colab": {
          "base_uri": "https://localhost:8080/"
        },
        "id": "fSMPTFUeHXeT",
        "outputId": "5368d471-904d-4fda-91ee-fde725febbd6"
      },
      "source": [
        "np.zeros((3,4))"
      ],
      "execution_count": 5,
      "outputs": [
        {
          "output_type": "execute_result",
          "data": {
            "text/plain": [
              "array([[0., 0., 0., 0.],\n",
              "       [0., 0., 0., 0.],\n",
              "       [0., 0., 0., 0.]])"
            ]
          },
          "metadata": {
            "tags": []
          },
          "execution_count": 5
        }
      ]
    },
    {
      "cell_type": "code",
      "metadata": {
        "colab": {
          "base_uri": "https://localhost:8080/"
        },
        "id": "fe_utTgWHge9",
        "outputId": "75a51b77-6629-49e0-8fcf-5c5a9948affe"
      },
      "source": [
        "np.ones((5,2))"
      ],
      "execution_count": 6,
      "outputs": [
        {
          "output_type": "execute_result",
          "data": {
            "text/plain": [
              "array([[1., 1.],\n",
              "       [1., 1.],\n",
              "       [1., 1.],\n",
              "       [1., 1.],\n",
              "       [1., 1.]])"
            ]
          },
          "metadata": {
            "tags": []
          },
          "execution_count": 6
        }
      ]
    },
    {
      "cell_type": "code",
      "metadata": {
        "colab": {
          "base_uri": "https://localhost:8080/"
        },
        "id": "w7tGab0KHpON",
        "outputId": "c787838c-9f89-40ca-f80e-2533817893d7"
      },
      "source": [
        "np.arange(10)"
      ],
      "execution_count": 7,
      "outputs": [
        {
          "output_type": "execute_result",
          "data": {
            "text/plain": [
              "array([0, 1, 2, 3, 4, 5, 6, 7, 8, 9])"
            ]
          },
          "metadata": {
            "tags": []
          },
          "execution_count": 7
        }
      ]
    },
    {
      "cell_type": "code",
      "metadata": {
        "colab": {
          "base_uri": "https://localhost:8080/"
        },
        "id": "KWuV08zbHyNX",
        "outputId": "9feb837a-3b3a-4d95-d677-68d0fa2413f2"
      },
      "source": [
        "np.arange(2,10)"
      ],
      "execution_count": 8,
      "outputs": [
        {
          "output_type": "execute_result",
          "data": {
            "text/plain": [
              "array([2, 3, 4, 5, 6, 7, 8, 9])"
            ]
          },
          "metadata": {
            "tags": []
          },
          "execution_count": 8
        }
      ]
    },
    {
      "cell_type": "code",
      "metadata": {
        "colab": {
          "base_uri": "https://localhost:8080/"
        },
        "id": "Ohl_udXnH-Oz",
        "outputId": "70cad028-ecee-4984-99e6-05949b0bf154"
      },
      "source": [
        "np.arange(3,47,4)"
      ],
      "execution_count": 9,
      "outputs": [
        {
          "output_type": "execute_result",
          "data": {
            "text/plain": [
              "array([ 3,  7, 11, 15, 19, 23, 27, 31, 35, 39, 43])"
            ]
          },
          "metadata": {
            "tags": []
          },
          "execution_count": 9
        }
      ]
    },
    {
      "cell_type": "code",
      "metadata": {
        "id": "OQ72u2w4INT5"
      },
      "source": [
        ""
      ],
      "execution_count": 9,
      "outputs": []
    },
    {
      "cell_type": "markdown",
      "metadata": {
        "id": "IdF4bg_jITm-"
      },
      "source": [
        "Arange = (Awal,Akhir,delta)"
      ]
    },
    {
      "cell_type": "code",
      "metadata": {
        "colab": {
          "base_uri": "https://localhost:8080/"
        },
        "id": "W5CxZ4mpIaFx",
        "outputId": "35ab4cb7-3912-433a-94ff-46a9b9ef3520"
      },
      "source": [
        "np.arange(4,5,0.1)"
      ],
      "execution_count": 10,
      "outputs": [
        {
          "output_type": "execute_result",
          "data": {
            "text/plain": [
              "array([4. , 4.1, 4.2, 4.3, 4.4, 4.5, 4.6, 4.7, 4.8, 4.9])"
            ]
          },
          "metadata": {
            "tags": []
          },
          "execution_count": 10
        }
      ]
    },
    {
      "cell_type": "code",
      "metadata": {
        "colab": {
          "base_uri": "https://localhost:8080/"
        },
        "id": "bTgHkXmUIg7L",
        "outputId": "08937621-aff9-4983-b0e1-18cfffca4dd7"
      },
      "source": [
        "np.arange(2,-4,-0.5)"
      ],
      "execution_count": 11,
      "outputs": [
        {
          "output_type": "execute_result",
          "data": {
            "text/plain": [
              "array([ 2. ,  1.5,  1. ,  0.5,  0. , -0.5, -1. , -1.5, -2. , -2.5, -3. ,\n",
              "       -3.5])"
            ]
          },
          "metadata": {
            "tags": []
          },
          "execution_count": 11
        }
      ]
    },
    {
      "cell_type": "code",
      "metadata": {
        "colab": {
          "base_uri": "https://localhost:8080/"
        },
        "id": "nktsy1fkI54z",
        "outputId": "615cbe0f-4a40-45c5-f86c-3256df9186d8"
      },
      "source": [
        "np.linspace(2,10,4)"
      ],
      "execution_count": 12,
      "outputs": [
        {
          "output_type": "execute_result",
          "data": {
            "text/plain": [
              "array([ 2.        ,  4.66666667,  7.33333333, 10.        ])"
            ]
          },
          "metadata": {
            "tags": []
          },
          "execution_count": 12
        }
      ]
    },
    {
      "cell_type": "code",
      "metadata": {
        "colab": {
          "base_uri": "https://localhost:8080/"
        },
        "id": "NSyeDR0FJc3X",
        "outputId": "a437c07d-44f9-4fc4-a297-e66f4a59e64e"
      },
      "source": [
        "np.linspace(2,-4,4)"
      ],
      "execution_count": 13,
      "outputs": [
        {
          "output_type": "execute_result",
          "data": {
            "text/plain": [
              "array([ 2.,  0., -2., -4.])"
            ]
          },
          "metadata": {
            "tags": []
          },
          "execution_count": 13
        }
      ]
    },
    {
      "cell_type": "code",
      "metadata": {
        "id": "WGdTFhoiJppN"
      },
      "source": [
        "e=np.arange(0,20,2)"
      ],
      "execution_count": 14,
      "outputs": []
    },
    {
      "cell_type": "code",
      "metadata": {
        "colab": {
          "base_uri": "https://localhost:8080/"
        },
        "id": "CGf98_AHKD9M",
        "outputId": "414f6be4-beea-4473-8fac-a848e05123fc"
      },
      "source": [
        "len(e)"
      ],
      "execution_count": 15,
      "outputs": [
        {
          "output_type": "execute_result",
          "data": {
            "text/plain": [
              "10"
            ]
          },
          "metadata": {
            "tags": []
          },
          "execution_count": 15
        }
      ]
    },
    {
      "cell_type": "code",
      "metadata": {
        "colab": {
          "base_uri": "https://localhost:8080/"
        },
        "id": "TrQRn9faKFeo",
        "outputId": "7ca58fa2-458c-4cdc-a829-3bd1c5b733fb"
      },
      "source": [
        "e.reshape(5,2)"
      ],
      "execution_count": 16,
      "outputs": [
        {
          "output_type": "execute_result",
          "data": {
            "text/plain": [
              "array([[ 0,  2],\n",
              "       [ 4,  6],\n",
              "       [ 8, 10],\n",
              "       [12, 14],\n",
              "       [16, 18]])"
            ]
          },
          "metadata": {
            "tags": []
          },
          "execution_count": 16
        }
      ]
    },
    {
      "cell_type": "code",
      "metadata": {
        "colab": {
          "base_uri": "https://localhost:8080/"
        },
        "id": "-SQXnZkeKJxM",
        "outputId": "9cfdd8be-2d39-42ad-8f65-07c7e66be7bd"
      },
      "source": [
        "e.reshape(2,5)"
      ],
      "execution_count": 17,
      "outputs": [
        {
          "output_type": "execute_result",
          "data": {
            "text/plain": [
              "array([[ 0,  2,  4,  6,  8],\n",
              "       [10, 12, 14, 16, 18]])"
            ]
          },
          "metadata": {
            "tags": []
          },
          "execution_count": 17
        }
      ]
    },
    {
      "cell_type": "code",
      "metadata": {
        "colab": {
          "base_uri": "https://localhost:8080/"
        },
        "id": "cfxPx2XhKM2a",
        "outputId": "4994c6bf-11af-40b8-fcff-aac6c9aef5a1"
      },
      "source": [
        "print(e)"
      ],
      "execution_count": 18,
      "outputs": [
        {
          "output_type": "stream",
          "text": [
            "[ 0  2  4  6  8 10 12 14 16 18]\n"
          ],
          "name": "stdout"
        }
      ]
    },
    {
      "cell_type": "code",
      "metadata": {
        "id": "HmwbQ4d7KP-5"
      },
      "source": [
        "f=e.reshape(5,2)"
      ],
      "execution_count": 19,
      "outputs": []
    },
    {
      "cell_type": "code",
      "metadata": {
        "colab": {
          "base_uri": "https://localhost:8080/"
        },
        "id": "InZvEqHrKoPy",
        "outputId": "0d89dfec-8c4a-45f7-f5df-f3651d0ff382"
      },
      "source": [
        "print(f)"
      ],
      "execution_count": 20,
      "outputs": [
        {
          "output_type": "stream",
          "text": [
            "[[ 0  2]\n",
            " [ 4  6]\n",
            " [ 8 10]\n",
            " [12 14]\n",
            " [16 18]]\n"
          ],
          "name": "stdout"
        }
      ]
    },
    {
      "cell_type": "code",
      "metadata": {
        "colab": {
          "base_uri": "https://localhost:8080/"
        },
        "id": "Od42_rDpMhUQ",
        "outputId": "a4106f08-2939-4f05-ff52-b440bfde25a7"
      },
      "source": [
        "np.random.random((3,4))"
      ],
      "execution_count": 21,
      "outputs": [
        {
          "output_type": "execute_result",
          "data": {
            "text/plain": [
              "array([[0.13816637, 0.68681908, 0.20729728, 0.31136866],\n",
              "       [0.98681559, 0.7110279 , 0.11112142, 0.0117467 ],\n",
              "       [0.8177704 , 0.59862552, 0.88886702, 0.0507739 ]])"
            ]
          },
          "metadata": {
            "tags": []
          },
          "execution_count": 21
        }
      ]
    },
    {
      "cell_type": "code",
      "metadata": {
        "colab": {
          "base_uri": "https://localhost:8080/"
        },
        "id": "Qdktkp3dMmRV",
        "outputId": "f74ed44d-a1c6-4874-902a-e1d837ddaa5a"
      },
      "source": [
        "np.random.randint(1,20,10)"
      ],
      "execution_count": 22,
      "outputs": [
        {
          "output_type": "execute_result",
          "data": {
            "text/plain": [
              "array([17,  3, 14, 17,  5, 13,  3,  5,  2, 19])"
            ]
          },
          "metadata": {
            "tags": []
          },
          "execution_count": 22
        }
      ]
    },
    {
      "cell_type": "code",
      "metadata": {
        "colab": {
          "base_uri": "https://localhost:8080/"
        },
        "id": "E4nPQ-KJNBSQ",
        "outputId": "1e4a632d-64b9-4bd0-c97b-3f54146828a0"
      },
      "source": [
        "np.random.randn(3)"
      ],
      "execution_count": 23,
      "outputs": [
        {
          "output_type": "execute_result",
          "data": {
            "text/plain": [
              "array([-0.09685235, -0.56382541, -2.41666283])"
            ]
          },
          "metadata": {
            "tags": []
          },
          "execution_count": 23
        }
      ]
    },
    {
      "cell_type": "code",
      "metadata": {
        "colab": {
          "base_uri": "https://localhost:8080/"
        },
        "id": "aFW3Runszma3",
        "outputId": "9ebac615-9e2f-40dd-a0ea-c1a748fdb26e"
      },
      "source": [
        "from google.colab import drive\n",
        "drive.mount('/content/drive')"
      ],
      "execution_count": 24,
      "outputs": [
        {
          "output_type": "stream",
          "text": [
            "Drive already mounted at /content/drive; to attempt to forcibly remount, call drive.mount(\"/content/drive\", force_remount=True).\n"
          ],
          "name": "stdout"
        }
      ]
    },
    {
      "cell_type": "markdown",
      "metadata": {
        "id": "nAL9h3AneiD4"
      },
      "source": [
        "# **GRAFIK FREKUENSI 1800MHz (URBAN, OPEN, DAN SUB URBAN)**"
      ]
    },
    {
      "cell_type": "code",
      "metadata": {
        "id": "7bOjuB7ke9Os"
      },
      "source": [
        "def cos(frek,tipe,ht,hr,d):\r\n",
        "    if frek in range(150,1501):\r\n",
        "        Ca=69.55\r\n",
        "        Cb=26.16\r\n",
        "    elif frek in range(1501,2001):\r\n",
        "        Ca=46.3\r\n",
        "        Cb=33.9\r\n",
        "    \r\n",
        "    if tipe=='urban' :\r\n",
        "        Cm=0\r\n",
        "    elif tipe=='suburban' :\r\n",
        "        Cm= -2*((np.log10((frek/28)**2))-5.4)\r\n",
        "    elif tipe=='open' :\r\n",
        "        Cm= -4.78*(np.log10(frek))+18.33*(np.log10(frek))-40.94\r\n",
        "    else :\r\n",
        "        Cm='tipe salah'\r\n",
        "    \r\n",
        "    ahr = (1.1*np.log10(frek)-0.7)*hr-(1.56*np.log10(frek)-1.8)\r\n",
        "    Lp = Ca+(Cb*np.log10(frek))-(13.83*np.log(ht))-ahr+((44.9-6.55*np.log10(ht))*np.log10(d))-Cm\r\n",
        "    \r\n",
        "    return Lp"
      ],
      "execution_count": 25,
      "outputs": []
    },
    {
      "cell_type": "code",
      "metadata": {
        "id": "nezVGk5OfBn_"
      },
      "source": [
        "f=1800 #MHz\r\n",
        "loc1='urban'\r\n",
        "loc2='open'\r\n",
        "loc3='suburban'\r\n",
        "tower=80 #m\r\n",
        "user=1.5 #m\r\n",
        "dmin=200 #m\r\n",
        "dmax=700 #m\r\n",
        "N=200 #titik\r\n",
        "d=np.random.randint(dmin,dmax,N)"
      ],
      "execution_count": 28,
      "outputs": []
    },
    {
      "cell_type": "code",
      "metadata": {
        "colab": {
          "base_uri": "https://localhost:8080/"
        },
        "id": "5_O5uC7GfRkX",
        "outputId": "f5da1db1-dcd0-477b-a6f0-b78f0b927874"
      },
      "source": [
        "print(d)"
      ],
      "execution_count": 29,
      "outputs": [
        {
          "output_type": "stream",
          "text": [
            "[645 465 327 491 449 686 484 378 250 342 237 548 608 316 607 211 249 556\n",
            " 555 442 355 583 671 413 657 338 436 685 308 390 238 492 499 423 636 565\n",
            " 333 647 458 233 692 265 583 332 286 668 440 682 574 215 618 399 628 359\n",
            " 206 378 344 347 343 654 428 677 691 517 467 355 548 684 585 467 415 579\n",
            " 656 620 664 362 309 626 405 208 465 625 373 587 679 545 571 554 630 302\n",
            " 487 462 596 400 679 366 343 226 331 494 693 678 452 616 351 636 416 261\n",
            " 314 653 273 579 491 569 624 459 630 347 607 207 329 232 474 583 516 457\n",
            " 618 643 315 511 241 629 681 505 546 388 261 380 219 450 336 614 294 636\n",
            " 315 391 209 343 344 665 600 251 535 411 479 313 290 553 678 477 264 489\n",
            " 619 639 579 466 441 347 337 336 318 451 621 468 287 687 526 627 273 356\n",
            " 462 356 358 580 296 470 408 505 332 675 242 478 331 451 206 352 569 552\n",
            " 308 214]\n"
          ],
          "name": "stdout"
        }
      ]
    },
    {
      "cell_type": "code",
      "metadata": {
        "id": "kB9jNu0OfT7Q"
      },
      "source": [
        "LpUrban=cos(f,loc1,tower,user,d)\r\n",
        "LpOpen=cos(f,loc2,tower,user,d)\r\n",
        "LpSuburban=cos(f,loc3,tower,user,d)"
      ],
      "execution_count": 30,
      "outputs": []
    },
    {
      "cell_type": "code",
      "metadata": {
        "colab": {
          "base_uri": "https://localhost:8080/"
        },
        "id": "a-PkNSClffVO",
        "outputId": "03119fc3-faf6-4fca-9f72-542783f89a4c"
      },
      "source": [
        "print(LpUrban, LpOpen, LpSuburban)"
      ],
      "execution_count": 31,
      "outputs": [
        {
          "output_type": "stream",
          "text": [
            "[186.13473173 181.52553294 176.56608938 182.29191895 181.03231012\n",
            " 187.00282867 182.08965155 178.60766448 172.78394512 177.19786511\n",
            " 172.03172909 183.83902675 185.30258113 176.0840871  185.2793939\n",
            " 170.39488001 172.72748718 184.04317869 184.01782092 180.81097299\n",
            " 177.72338111 184.71113247 186.69140322 179.85504867 186.39439323\n",
            " 177.03214275 180.61844739 186.98227982 175.72288173 179.04789523\n",
            " 172.09103965 182.32057865 182.51958027 180.19205607 185.9367954\n",
            " 184.26936756 176.82220984 186.17834241 181.31186977 171.79195756\n",
            " 187.12549625 173.6047348  184.71113247 176.77984519 174.67897923\n",
            " 186.62828331 180.74708972 186.92045278 184.49198175 170.65941807\n",
            " 185.53237803 179.3692682  185.75848621 177.88121175 170.05706436\n",
            " 178.60766448 177.28000084 177.40231336 177.23899284 186.32992522\n",
            " 180.35758368 186.81680082 187.10512569 183.01875116 181.58598899\n",
            " 177.72338111 183.83902675 186.96170094 184.75937306 181.58598899\n",
            " 179.92309826 184.61415283 186.37293666 185.57789095 186.54368103\n",
            " 177.99843493 175.76854219 185.713554   179.57951445 170.19316433\n",
            " 181.52553294 185.69103403 178.42009529 184.807449   186.85835318\n",
            " 183.76170046 184.41816723 183.99241742 185.80327556 175.44576648\n",
            " 182.17669346 181.43435956 185.02178304 179.40452789 186.85835318\n",
            " 178.15323031 177.23899284 171.36227866 176.73735273 182.37772371\n",
            " 187.14583739 186.83759232 181.12611449 185.48671757 177.56376198\n",
            " 185.9367954  179.95700017 173.39049132 175.99465037 186.30837014\n",
            " 174.02368724 184.61415283 182.29191895 184.36874179 185.668478\n",
            " 181.34259222 185.80327556 177.40231336 185.2793939  170.12527872\n",
            " 176.65198134 171.7313715  181.79556493 184.71113247 182.99147866\n",
            " 181.28108017 185.53237803 186.09098562 176.03943972 182.8543185\n",
            " 172.26748753 185.78089869 186.89978332 182.68794368 183.78752308\n",
            " 178.97547226 173.39049132 178.68199836 170.91907957 181.06364771\n",
            " 176.94854466 185.44090863 175.06758974 185.9367954  176.03943972\n",
            " 179.08396756 170.26072435 177.23899284 177.28000084 186.56487928\n",
            " 185.11600572 172.84017768 183.50083675 179.78666874 181.94337571\n",
            " 175.94971816 174.87462457 183.96696802 186.83759232 181.88443739\n",
            " 173.55147864 182.23442403 185.55515287 186.0030837  184.61415283\n",
            " 181.5557934  180.77906757 177.40231336 176.99040572 176.94854466\n",
            " 176.17295956 181.09491573 185.60059238 181.61611999 174.72814591\n",
            " 187.0233476  183.26185621 185.73603802 174.02368724 177.76300487\n",
            " 181.43435956 177.76300487 177.84191957 184.63846041 175.16309002\n",
            " 181.67618932 179.6834724  182.68794368 176.77984519 186.77512553\n",
            " 172.32581571 181.91393737 176.73735273 181.09491573 170.05706436\n",
            " 177.60383665 184.36874179 183.94147257 175.72288173 170.59374784] [182.96578929 178.3565905  173.39714693 179.12297651 177.86336768\n",
            " 183.83388623 178.92070911 175.43872203 169.61500267 174.02892266\n",
            " 168.86278665 180.67008431 182.13363868 172.91514466 182.11045145\n",
            " 167.22593757 169.55854473 180.87423625 180.84887848 177.64203055\n",
            " 174.55443866 181.54219003 183.52246078 176.68610622 183.22545079\n",
            " 173.86320031 177.44950494 183.81333738 172.55393929 175.87895279\n",
            " 168.92209721 179.15163621 179.35063783 177.02311363 182.76785295\n",
            " 181.10042512 173.6532674  183.00939997 178.14292732 168.62301511\n",
            " 183.95655381 170.43579236 181.54219003 173.61090274 171.51003679\n",
            " 183.45934086 177.57814728 183.75151034 181.3230393  167.49047562\n",
            " 182.36343558 176.20032576 182.58954377 174.71226931 166.88812191\n",
            " 175.43872203 174.11105839 174.23337092 174.07005039 183.16098277\n",
            " 177.18864124 183.64785838 183.93618325 179.84980871 178.41704654\n",
            " 174.55443866 180.67008431 183.7927585  181.59043061 178.41704654\n",
            " 176.75415581 181.44521038 183.20399422 182.4089485  183.37473858\n",
            " 174.82949249 172.59959974 182.54461155 176.41057201 167.02422189\n",
            " 178.3565905  182.52209158 175.25115285 181.63850656 183.68941073\n",
            " 180.59275801 181.24922479 180.82347498 182.63433311 172.27682404\n",
            " 179.00775102 178.26541712 181.8528406  176.23558544 183.68941073\n",
            " 174.98428787 174.07005039 168.19333621 173.56841029 179.20878127\n",
            " 183.97689495 183.66864988 177.95717205 182.31777513 174.39481953\n",
            " 182.76785295 176.78805773 170.22154887 172.82570793 183.1394277\n",
            " 170.8547448  181.44521038 179.12297651 181.19979934 182.49953555\n",
            " 178.17364977 182.63433311 174.23337092 182.11045145 166.95633627\n",
            " 173.48303889 168.56242905 178.62662249 181.54219003 179.82253622\n",
            " 178.11213772 182.36343558 182.92204318 172.87049728 179.68537606\n",
            " 169.09854508 182.61195624 183.73084087 179.51900124 180.61858064\n",
            " 175.80652981 170.22154887 175.51305591 167.75013712 177.89470526\n",
            " 173.77960221 182.27196619 171.8986473  182.76785295 172.87049728\n",
            " 175.91502512 167.09178191 174.07005039 174.11105839 183.39593684\n",
            " 181.94706327 169.67123523 180.33189431 176.6177263  178.77443326\n",
            " 172.78077571 171.70568212 180.79802558 183.66864988 178.71549494\n",
            " 170.3825362  179.06548158 182.38621042 182.83414125 181.44521038\n",
            " 178.38685095 177.61012513 174.23337092 173.82146328 173.77960221\n",
            " 173.00401711 177.92597328 182.43164994 178.44717754 171.55920346\n",
            " 183.85440515 180.09291376 182.56709558 170.8547448  174.59406243\n",
            " 178.26541712 174.59406243 174.67297713 181.46951796 171.99414758\n",
            " 178.50724688 176.51452995 179.51900124 173.61090274 183.60618309\n",
            " 169.15687327 178.74499493 173.56841029 177.92597328 166.88812191\n",
            " 174.43489421 181.19979934 180.77253012 172.55393929 167.4248054 ] [182.56718963 177.95799083 172.99854727 178.72437685 177.46476802\n",
            " 183.43528657 178.52210945 175.04012237 169.21640301 173.630323\n",
            " 168.46418699 180.27148464 181.73503902 172.516545   181.71185179\n",
            " 166.82733791 169.15994507 180.47563659 180.45027882 177.24343089\n",
            " 174.155839   181.14359037 183.12386112 176.28750656 182.82685113\n",
            " 173.46460065 177.05090528 183.41473772 172.15533963 175.48035312\n",
            " 168.52349755 178.75303655 178.95203817 176.62451397 182.36925329\n",
            " 180.70182546 173.25466774 182.61080031 177.74432766 168.22441545\n",
            " 183.55795415 170.0371927  181.14359037 173.21230308 171.11143713\n",
            " 183.0607412  177.17954762 183.35291068 180.92443964 167.09187596\n",
            " 181.96483592 175.8017261  182.19094411 174.31366965 166.48952225\n",
            " 175.04012237 173.71245873 173.83477126 173.67145073 182.76238311\n",
            " 176.79004158 183.24925872 183.53758359 179.45120905 178.01844688\n",
            " 174.155839   180.27148464 183.39415884 181.19183095 178.01844688\n",
            " 176.35555615 181.04661072 182.80539456 182.01034884 182.97613892\n",
            " 174.43089283 172.20100008 182.14601189 176.01197235 166.62562223\n",
            " 177.95799083 182.12349192 174.85255319 181.2399069  183.29081107\n",
            " 180.19415835 180.85062513 180.42487532 182.23573345 171.87822438\n",
            " 178.60915136 177.86681746 181.45424093 175.83698578 183.29081107\n",
            " 174.5856882  173.67145073 167.79473655 173.16981063 178.81018161\n",
            " 183.57829529 183.27005022 177.55857239 181.91917547 173.99621987\n",
            " 182.36925329 176.38945806 169.82294921 172.42710827 182.74082804\n",
            " 170.45614514 181.04661072 178.72437685 180.80119968 182.10093589\n",
            " 177.77505011 182.23573345 173.83477126 181.71185179 166.55773661\n",
            " 173.08443923 168.16382939 178.22802283 181.14359037 179.42393656\n",
            " 177.71353806 181.96483592 182.52344351 172.47189761 179.28677639\n",
            " 168.69994542 182.21335658 183.33224121 179.12040158 180.21998098\n",
            " 175.40793015 169.82294921 175.11445625 167.35153746 177.4961056\n",
            " 173.38100255 181.87336652 171.50004764 182.36925329 172.47189761\n",
            " 175.51642546 166.69318225 173.67145073 173.71245873 182.99733718\n",
            " 181.54846361 169.27263557 179.93329465 176.21912664 178.3758336\n",
            " 172.38217605 171.30708246 180.39942592 183.27005022 178.31689528\n",
            " 169.98393654 178.66688192 181.98761076 182.43554159 181.04661072\n",
            " 177.98825129 177.21152547 173.83477126 173.42286362 173.38100255\n",
            " 172.60541745 177.52737362 182.03305028 178.04857788 171.1606038\n",
            " 183.45580549 179.6943141  182.16849591 170.45614514 174.19546276\n",
            " 177.86681746 174.19546276 174.27437747 181.0709183  171.59554792\n",
            " 178.10864722 176.11593029 179.12040158 173.21230308 183.20758343\n",
            " 168.75827361 178.34639527 173.16981063 177.52737362 166.48952225\n",
            " 174.03629454 180.80119968 180.37393046 172.15533963 167.02620574]\n"
          ],
          "name": "stdout"
        }
      ]
    },
    {
      "cell_type": "code",
      "metadata": {
        "colab": {
          "base_uri": "https://localhost:8080/",
          "height": 278
        },
        "id": "NWtlC7PdfuF5",
        "outputId": "ef1978d7-33e3-4b72-d518-d42dde0bf94d"
      },
      "source": [
        "plt.figure()\r\n",
        "plt.plot(d,LpUrban)\r\n",
        "plt.plot(d,LpOpen)\r\n",
        "plt.plot(d,LpSuburban)\r\n",
        "plt.xlabel('Jarak (m)')\r\n",
        "plt.ylabel('Path Loss (dB)')\r\n",
        "plt.show()"
      ],
      "execution_count": 32,
      "outputs": [
        {
          "output_type": "display_data",
          "data": {
            "image/png": "[encoded data removed]",
            "text/plain": [
              "<Figure size 432x288 with 1 Axes>"
            ]
          },
          "metadata": {
            "tags": [],
            "needs_background": "light"
          }
        }
      ]
    },
    {
      "cell_type": "code",
      "metadata": {
        "id": "t1MXFWVkf43Z"
      },
      "source": [
        "d_sort=d[np.argsort(d)]\r\n",
        "Urban_sort1=LpUrban[np.argsort(d)]\r\n",
        "Open_sort2=LpOpen[np.argsort(d)]\r\n",
        "Suburban_sort3=LpSuburban[np.argsort(d)]"
      ],
      "execution_count": 33,
      "outputs": []
    },
    {
      "cell_type": "code",
      "metadata": {
        "colab": {
          "base_uri": "https://localhost:8080/",
          "height": 294
        },
        "id": "WnJ4fSEuf99L",
        "outputId": "86c4ea32-41c6-404c-a295-5a9d1db66e03"
      },
      "source": [
        "plt.figure()\r\n",
        "plt.title('FREKUENSI 1800MHz (URBAN, OPEN, SUBURBAN)')\r\n",
        "plt.plot(d_sort,Urban_sort1, label='Urban')\r\n",
        "plt.plot(d_sort,Open_sort2, label=\"Open\")\r\n",
        "plt.plot(d_sort,Suburban_sort3, label=\"Suburban\")\r\n",
        "plt.legend()\r\n",
        "plt.xlabel('Jarak (m)')\r\n",
        "plt.ylabel('Path Loss (dB)')\r\n",
        "plt.show()"
      ],
      "execution_count": 34,
      "outputs": [
        {
          "output_type": "display_data",
          "data": {
            "image/png": "[encoded data removed]",
            "text/plain": [
              "<Figure size 432x288 with 1 Axes>"
            ]
          },
          "metadata": {
            "tags": [],
            "needs_background": "light"
          }
        }
      ]
    },
    {
      "cell_type": "markdown",
      "metadata": {
        "id": "6TrGZpCYQbZl"
      },
      "source": [
        "# **GRAFIK MODEL URBAN (700MHz, 900MHz, dan 1800MHz)**"
      ]
    },
    {
      "cell_type": "code",
      "metadata": {
        "id": "EJUGiqITQfx5"
      },
      "source": [
        "def cos(frek,tipe,ht,hr,d):\n",
        "    if frek in range(150,1501):\n",
        "        Ca=69.55\n",
        "        Cb=26.16\n",
        "    elif frek in range(1501,2001):\n",
        "        Ca=46.3\n",
        "        Cb=33.9\n",
        "    \n",
        "    if tipe=='urban' :\n",
        "        Cm=0\n",
        "    elif tipe=='suburban' :\n",
        "        Cm= -2*((np.log10((frek/28)**2))-5.4)\n",
        "    elif tipe=='open' :\n",
        "        Cm= -4.78*(np.log10(frek))+18.33*(np.log10(frek))-40.94\n",
        "    else :\n",
        "        Cm='tipe salah'\n",
        "    \n",
        "    ahr = (1.1*np.log10(frek)-0.7)*hr-(1.56*np.log10(frek)-1.8)\n",
        "    Lp = Ca+(Cb*np.log10(frek))-(13.83*np.log(ht))-ahr+((44.9-6.55*np.log10(ht))*np.log10(d))-Cm\n",
        "    \n",
        "    return Lp"
      ],
      "execution_count": 35,
      "outputs": []
    },
    {
      "cell_type": "code",
      "metadata": {
        "id": "53d-Ye-LQlXh"
      },
      "source": [
        "f1=700 #MHz\n",
        "f2=900 #MHz\n",
        "f3=1800 #MHz\n",
        "loc='urban'\n",
        "tower=80 #m\n",
        "user=1.5 #m\n",
        "dmin=200 #m\n",
        "dmax=700 #m\n",
        "N=200 #titik\n",
        "d=np.random.randint(dmin,dmax,N)"
      ],
      "execution_count": 36,
      "outputs": []
    },
    {
      "cell_type": "code",
      "metadata": {
        "colab": {
          "base_uri": "https://localhost:8080/"
        },
        "id": "qhdPl7JETiqL",
        "outputId": "7f4708bc-d2e6-46d1-d73d-608561db4597"
      },
      "source": [
        "print(d)"
      ],
      "execution_count": 37,
      "outputs": [
        {
          "output_type": "stream",
          "text": [
            "[576 208 224 281 482 578 288 574 479 303 478 624 326 642 595 304 238 352\n",
            " 657 464 240 558 541 392 513 210 320 666 667 495 473 218 646 699 636 693\n",
            " 306 207 221 670 696 667 519 441 538 394 689 326 513 260 682 630 411 587\n",
            " 682 571 457 638 518 552 348 485 527 618 255 549 455 543 582 314 220 456\n",
            " 317 222 657 410 280 361 358 482 597 506 300 404 619 291 349 406 488 274\n",
            " 466 238 406 601 211 520 634 563 313 555 576 252 561 203 285 489 625 586\n",
            " 378 449 306 517 316 584 262 581 467 637 246 572 365 369 457 524 206 293\n",
            " 444 632 388 423 642 597 480 673 614 537 302 456 487 331 545 505 609 564\n",
            " 365 640 238 652 533 514 351 266 263 670 667 348 366 378 484 642 579 542\n",
            " 214 584 368 501 644 606 213 232 417 400 498 488 647 583 233 521 217 323\n",
            " 386 686 527 270 500 308 365 327 436 242 289 627 455 554 490 692 665 502\n",
            " 574 246]\n"
          ],
          "name": "stdout"
        }
      ]
    },
    {
      "cell_type": "code",
      "metadata": {
        "id": "IgW6t5oSRMBQ"
      },
      "source": [
        "LpUrban700=cos(f1,loc,tower,user,d)\r\n",
        "LpUrban900=cos(f2,loc,tower,user,d)\r\n",
        "LpUrban1800=cos(f3,loc,tower,user,d)"
      ],
      "execution_count": 38,
      "outputs": []
    },
    {
      "cell_type": "code",
      "metadata": {
        "id": "rIFJSsdSTn-6",
        "colab": {
          "base_uri": "https://localhost:8080/"
        },
        "outputId": "cdf00e58-348d-4d4c-e1f3-04943dcb6411"
      },
      "source": [
        "print(LpUrban700, LpUrban900, LpUrban1800)"
      ],
      "execution_count": 39,
      "outputs": [
        {
          "output_type": "stream",
          "text": [
            "[171.90191991 157.55410684 158.59800934 161.79148078 169.39226587\n",
            " 171.95074574 162.13808407 171.85292425 169.30431821 162.85327511\n",
            " 169.27487988 173.0294205  163.8838887  173.43000402 172.35907107\n",
            " 162.89968779 159.45198216 164.96477916 173.75533574 168.85614984\n",
            " 159.56985931 171.4547002  171.01887647 166.48089026 170.27028544\n",
            " 157.6889044  163.62221732 173.94698819 173.96812283 169.76715204\n",
            " 169.12675824 158.21555405 173.51749646 174.62821373 173.2977379\n",
            " 174.5067799  162.9920569  157.48622122 158.40807966 174.03133717\n",
            " 174.56762767 173.96812283 170.43408075 168.14001008 170.94054687\n",
            " 166.5525761  174.4252385  163.8838887  170.27028544 160.69735991\n",
            " 174.28139529 173.16421806 167.14761125 172.16839151 174.28139529\n",
            " 171.77910974 168.64202267 173.34196474 170.40691345 171.30241507\n",
            " 164.80379183 169.47966783 170.64955321 172.89332053 160.42383214\n",
            " 171.22565064 168.58024083 171.07085527 172.04789259 163.35559288\n",
            " 158.34419639 168.61116562 163.48953593 158.47167452 173.75533574\n",
            " 167.1132964  161.74126241 165.32041133 165.20286208 169.39226587\n",
            " 172.40634037 170.07675215 162.71311238 166.90563312 172.91609537\n",
            " 162.28405675 164.84421148 166.97519492 169.56653082 161.43613342\n",
            " 168.9167359  159.45198216 166.97519492 172.50040574 157.75582252\n",
            " 170.46119575 173.25337176 171.58035882 163.31066066 171.37876343\n",
            " 171.90191991 160.25712916 171.53022981 157.21135909 161.99058285\n",
            " 169.59536653 173.05197653 172.14437405 165.96860698 168.39325263\n",
            " 162.9920569  170.37969366 163.44502961 172.09621592 160.80530095\n",
            " 172.02366862 168.94693149 173.31986868 159.91768532 171.80375758\n",
            " 165.47563315 165.62916315 168.64202267 170.56913679 157.41800686\n",
            " 162.38053821 168.23551036 173.20886545 166.33641476 167.55299858\n",
            " 173.43000402 172.40634037 169.33369515 174.09426909 172.80185113\n",
            " 170.91433991 162.80670899 168.61116562 169.53763597 164.09829524\n",
            " 171.12264296 170.04888619 172.68667275 171.60535659 165.47563315\n",
            " 173.38605316 159.45198216 173.64772454 170.80902175 170.29771727\n",
            " 164.92470448 161.01873288 160.85896287 174.03133717 173.96812283\n",
            " 164.80379183 165.51417282 165.96860698 169.45059406 173.43000402\n",
            " 171.97509533 171.04488984 157.95469035 172.09621592 165.59093724\n",
            " 169.9368678  173.47381816 172.61711095 157.88871253 159.092314\n",
            " 167.35176319 166.76547039 169.85226552 169.56653082 173.53928492\n",
            " 172.07207498 159.15290006 170.48825865 158.15078963 163.75366062\n",
            " 166.26361751 174.36377118 170.64955321 161.22897913 169.90872346\n",
            " 163.08382424 165.47563315 163.92703188 167.97938989 159.68675822\n",
            " 162.1869099  173.09698053 168.58024083 171.35335993 169.62414333\n",
            " 174.48643876 173.92582179 169.96495602 171.85292425 159.91768532] [174.74731623 160.39950315 161.44340565 164.63687709 172.23766219\n",
            " 174.79614206 164.98348039 174.69832057 172.14971453 165.69867142\n",
            " 172.1202762  175.87481682 166.72928502 176.27540033 175.20446739\n",
            " 165.74508411 162.29737848 167.81017547 176.60073206 171.70154616\n",
            " 162.41525563 174.30009652 173.86427279 169.32628658 173.11568176\n",
            " 160.53430071 166.46761364 176.79238451 176.81351915 172.61254836\n",
            " 171.97215456 161.06095037 176.36289277 177.47361005 176.14313422\n",
            " 177.35217621 165.83745321 160.33161754 161.25347598 176.87673349\n",
            " 177.41302399 176.81351915 173.27947706 170.9854064  173.78594319\n",
            " 169.39797242 177.27063481 166.72928502 173.11568176 163.54275622\n",
            " 177.12679161 176.00961438 169.99300756 175.01378782 177.12679161\n",
            " 174.62450606 171.48741899 176.18736106 173.25230977 174.14781139\n",
            " 167.64918815 172.32506415 173.49494953 175.73871685 163.26922845\n",
            " 174.07104696 171.42563715 173.91625158 174.89328891 166.2009892\n",
            " 161.18959271 171.45656194 166.33493224 161.31707084 176.60073206\n",
            " 169.95869272 164.58665872 168.16580765 168.0482584  172.23766219\n",
            " 175.25173668 172.92214846 165.5585087  169.75102943 175.76149169\n",
            " 165.12945307 167.6896078  169.82059124 172.41192714 164.28152974\n",
            " 171.76213222 162.29737848 169.82059124 175.34580206 160.60121883\n",
            " 173.30659206 176.09876808 174.42575514 166.15605698 174.22415975\n",
            " 174.74731623 163.10252547 174.37562613 160.0567554  164.83597917\n",
            " 172.44076285 175.89737285 174.98977036 168.8140033  171.23864895\n",
            " 165.83745321 173.22508998 166.29042593 174.94161224 163.65069727\n",
            " 174.86906493 171.79232781 176.165265   162.76308164 174.6491539\n",
            " 168.32102947 168.47455947 171.48741899 173.41453311 160.26340318\n",
            " 165.22593453 171.08090668 176.05426176 169.18181108 170.39839489\n",
            " 176.27540033 175.25173668 172.17909147 176.9396654  175.64724745\n",
            " 173.75973622 165.65210531 171.45656194 172.38303229 166.94369156\n",
            " 173.96803928 172.8942825  175.53206907 174.4507529  168.32102947\n",
            " 176.23144948 162.29737848 176.49312086 173.65441807 173.14311358\n",
            " 167.7701008  163.8641292  163.70435919 176.87673349 176.81351915\n",
            " 167.64918815 168.35956913 168.8140033  172.29599038 176.27540033\n",
            " 174.82049165 173.89028616 160.80008667 174.94161224 168.43633356\n",
            " 172.78226412 176.31921448 175.46250726 160.73410885 161.93771032\n",
            " 170.19715951 169.61086671 172.69766184 172.41192714 176.38468123\n",
            " 174.9174713  161.99829638 173.33365497 160.99618595 166.59905694\n",
            " 169.10901382 177.2091675  173.49494953 164.07437545 172.75411978\n",
            " 165.92922056 168.32102947 166.7724282  170.82478621 162.53215454\n",
            " 165.03230622 175.94237684 171.42563715 174.19875625 172.46953965\n",
            " 177.33183507 176.7712181  172.81035234 174.69832057 162.76308164] [184.5409774  170.19316433 171.23706683 174.43053827 182.03132336\n",
            " 184.58980323 174.77714157 184.49198175 181.94337571 175.4923326\n",
            " 181.91393737 185.668478   176.5229462  186.06906151 184.99812856\n",
            " 175.53874529 172.09103965 177.60383665 186.39439323 181.49520734\n",
            " 172.20891681 184.0937577  183.65793397 179.11994775 182.90934294\n",
            " 170.32796189 176.26127482 186.58604568 186.60718033 182.40620954\n",
            " 181.76581574 170.85461155 186.15655395 187.26727123 185.9367954\n",
            " 187.14583739 175.63111439 170.12527872 171.04713715 186.67039466\n",
            " 187.20668516 186.60718033 183.07313824 180.77906757 183.57960436\n",
            " 179.19163359 187.06429599 176.5229462  182.90934294 173.3364174\n",
            " 186.92045278 185.80327556 179.78666874 184.807449   186.92045278\n",
            " 184.41816723 181.28108017 185.98102224 183.04597095 183.94147257\n",
            " 177.44284933 182.11872533 183.2886107  185.53237803 173.06288963\n",
            " 183.86470814 181.21929832 183.70991276 184.68695008 175.99465037\n",
            " 170.98325388 181.25022312 176.12859342 171.11073201 186.39439323\n",
            " 179.75235389 174.3803199  177.95946883 177.84191957 182.03132336\n",
            " 185.04539786 182.71580964 175.35216988 179.54469061 185.55515287\n",
            " 174.92311425 177.48326897 179.61425242 182.20558832 174.07519091\n",
            " 181.5557934  172.09103965 179.61425242 185.13946324 170.39488001\n",
            " 183.10025324 185.89242926 184.21941631 175.94971816 184.01782092\n",
            " 184.5409774  172.89618665 184.1692873  169.85041658 174.62964035\n",
            " 182.23442403 185.69103403 184.78343154 178.60766448 181.03231012\n",
            " 175.63111439 183.01875116 176.0840871  184.73527342 173.44435845\n",
            " 184.66272611 181.58598899 185.95892618 172.55674281 184.44281507\n",
            " 178.11469065 178.26822064 181.28108017 183.20819429 170.05706436\n",
            " 175.0195957  180.87456785 185.84792294 178.97547226 180.19205607\n",
            " 186.06906151 185.04539786 181.97275265 186.73332658 185.44090863\n",
            " 183.5533974  175.44576648 181.25022312 182.17669346 176.73735273\n",
            " 183.76170046 182.68794368 185.32573025 184.24441408 178.11469065\n",
            " 186.02511066 172.09103965 186.28678204 183.44807925 182.93677476\n",
            " 177.56376198 173.65779037 173.49802037 186.67039466 186.60718033\n",
            " 177.44284933 178.15323031 178.60766448 182.08965155 186.06906151\n",
            " 184.61415283 183.68394734 170.59374784 184.73527342 178.22999474\n",
            " 182.5759253  186.11287566 185.25616844 170.52777003 171.7313715\n",
            " 179.99082068 179.40452789 182.49132302 182.20558832 186.17834241\n",
            " 184.71113247 171.79195756 183.12731614 170.78984712 176.39271811\n",
            " 178.902675   187.00282867 183.2886107  173.86803663 182.54778096\n",
            " 175.72288173 178.11469065 176.56608938 180.61844739 172.32581571\n",
            " 174.82596739 185.73603802 181.21929832 183.99241742 182.26320082\n",
            " 187.12549625 186.56487928 182.60401352 184.49198175 172.55674281]\n"
          ],
          "name": "stdout"
        }
      ]
    },
    {
      "cell_type": "code",
      "metadata": {
        "colab": {
          "base_uri": "https://localhost:8080/",
          "height": 278
        },
        "id": "o4qflQDdRXSo",
        "outputId": "4cd1e740-8c8e-4461-fd27-7a271aeea869"
      },
      "source": [
        "plt.figure()\n",
        "plt.plot(d,LpUrban700)\n",
        "plt.plot(d,LpUrban900)\n",
        "plt.plot(d,LpUrban1800)\n",
        "plt.xlabel('Jarak (m)')\n",
        "plt.ylabel('Path Loss (dB)')\n",
        "plt.show()"
      ],
      "execution_count": 40,
      "outputs": [
        {
          "output_type": "display_data",
          "data": {
            "image/png": "[encoded data removed]",
            "text/plain": [
              "<Figure size 432x288 with 1 Axes>"
            ]
          },
          "metadata": {
            "tags": [],
            "needs_background": "light"
          }
        }
      ]
    },
    {
      "cell_type": "code",
      "metadata": {
        "id": "MbvWh9qIRkKJ"
      },
      "source": [
        "d_sort=d[np.argsort(d)]\n",
        "Urban_sort1=LpUrban700[np.argsort(d)]\n",
        "Urban_sort2=LpUrban900[np.argsort(d)]\n",
        "Urban_sort3=LpUrban1800[np.argsort(d)]"
      ],
      "execution_count": 41,
      "outputs": []
    },
    {
      "cell_type": "code",
      "metadata": {
        "colab": {
          "base_uri": "https://localhost:8080/",
          "height": 294
        },
        "id": "79YaOB0uSBn6",
        "outputId": "0ff9a3de-079a-492d-986b-bcfa42e8ea85"
      },
      "source": [
        "plt.figure()\n",
        "plt.plot(d_sort,Urban_sort1, label='700MHz')\n",
        "plt.plot(d_sort,Urban_sort2, label='900MHz')\n",
        "plt.plot(d_sort,Urban_sort3, label='1800MHz')\n",
        "plt.legend()\n",
        "plt.title('MODEL URBAN (700MHz, 900MHz, 1800MHz)')\n",
        "plt.xlabel('Jarak (m)')\n",
        "plt.ylabel('Path Loss (dB)')\n",
        "plt.show()"
      ],
      "execution_count": 43,
      "outputs": [
        {
          "output_type": "display_data",
          "data": {
            "image/png": "[encoded data removed]",
            "text/plain": [
              "<Figure size 432x288 with 1 Axes>"
            ]
          },
          "metadata": {
            "tags": [],
            "needs_background": "light"
          }
        }
      ]
    }
  ]
}